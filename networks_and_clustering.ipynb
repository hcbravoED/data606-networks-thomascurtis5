{
 "cells": [
  {
   "cell_type": "markdown",
   "metadata": {},
   "source": [
    "## DATA606: Project 2\n",
    "## Network communities and clustering\n",
    "\n",
    "In this project we will exercise algorithms for network community analysis and clustering. Specifically, we will implement the Girvan-Newman community detection algorithm, and the k-mediods algorithm.\n",
    "\n",
    "**Note**: We will need the igraph package for this. To install use `conda install -c conda_forge igraph-python`\n",
    "\n",
    "Let's grab a toy network to try things out (this is the same network we used to illustrate the Girvan-Newman algorithm in lecture."
   ]
  },
  {
   "cell_type": "code",
   "execution_count": 1,
   "metadata": {},
   "outputs": [],
   "source": [
    "%load_ext autoreload\n",
    "%autoreload 2"
   ]
  },
  {
   "cell_type": "code",
   "execution_count": 2,
   "metadata": {},
   "outputs": [
    {
     "data": {
      "image/svg+xml": [
       "<?xml version=\"1.0\" encoding=\"UTF-8\"?>\n",
       "<svg xmlns=\"http://www.w3.org/2000/svg\" xmlns:xlink=\"http://www.w3.org/1999/xlink\" width=\"200pt\" height=\"200pt\" viewBox=\"0 0 200 200\" version=\"1.1\">\n",
       "<defs>\n",
       "<g>\n",
       "<symbol overflow=\"visible\" id=\"glyph0-0\">\n",
       "<path style=\"stroke:none;\" d=\"\"/>\n",
       "</symbol>\n",
       "<symbol overflow=\"visible\" id=\"glyph0-1\">\n",
       "<path style=\"stroke:none;\" d=\"M 6.21875 -4.117188 L 4.695312 -8.550781 L 3.078125 -4.117188 Z M 3.984375 -10.042969 L 5.523438 -10.042969 L 9.167969 0 L 7.675781 0 L 6.65625 -3.007812 L 2.6875 -3.007812 L 1.601562 0 L 0.203125 0 Z M 3.984375 -10.042969 \"/>\n",
       "</symbol>\n",
       "<symbol overflow=\"visible\" id=\"glyph0-2\">\n",
       "<path style=\"stroke:none;\" d=\"M 4.839844 -5.796875 C 5.414062 -5.796875 5.859375 -5.875 6.179688 -6.035156 C 6.679688 -6.285156 6.929688 -6.738281 6.929688 -7.390625 C 6.929688 -8.046875 6.664062 -8.488281 6.132812 -8.714844 C 5.832031 -8.84375 5.382812 -8.90625 4.792969 -8.90625 L 2.367188 -8.90625 L 2.367188 -5.796875 Z M 5.296875 -1.164062 C 6.132812 -1.164062 6.726562 -1.402344 7.082031 -1.886719 C 7.304688 -2.191406 7.417969 -2.5625 7.417969 -2.992188 C 7.417969 -3.722656 7.089844 -4.21875 6.4375 -4.484375 C 6.09375 -4.625 5.636719 -4.695312 5.066406 -4.695312 L 2.367188 -4.695312 L 2.367188 -1.164062 Z M 1.03125 -10.042969 L 5.34375 -10.042969 C 6.519531 -10.042969 7.359375 -9.691406 7.855469 -8.988281 C 8.148438 -8.574219 8.292969 -8.097656 8.292969 -7.554688 C 8.292969 -6.921875 8.113281 -6.402344 7.75 -5.996094 C 7.5625 -5.78125 7.296875 -5.585938 6.945312 -5.40625 C 7.460938 -5.210938 7.84375 -4.992188 8.101562 -4.742188 C 8.550781 -4.304688 8.777344 -3.703125 8.777344 -2.933594 C 8.777344 -2.285156 8.574219 -1.699219 8.167969 -1.175781 C 7.5625 -0.390625 6.597656 0 5.277344 0 L 1.03125 0 Z M 1.03125 -10.042969 \"/>\n",
       "</symbol>\n",
       "<symbol overflow=\"visible\" id=\"glyph0-3\">\n",
       "<path style=\"stroke:none;\" d=\"M 5.296875 -10.316406 C 6.570312 -10.316406 7.554688 -9.980469 8.257812 -9.3125 C 8.960938 -8.640625 9.347656 -7.878906 9.425781 -7.027344 L 8.101562 -7.027344 C 7.949219 -7.675781 7.652344 -8.1875 7.203125 -8.566406 C 6.753906 -8.945312 6.121094 -9.132812 5.3125 -9.132812 C 4.324219 -9.132812 3.523438 -8.785156 2.914062 -8.089844 C 2.304688 -7.394531 2.003906 -6.328125 2.003906 -4.894531 C 2.003906 -3.71875 2.277344 -2.765625 2.828125 -2.035156 C 3.375 -1.304688 4.195312 -0.9375 5.285156 -0.9375 C 6.289062 -0.9375 7.050781 -1.320312 7.574219 -2.09375 C 7.851562 -2.5 8.058594 -3.03125 8.195312 -3.691406 L 9.523438 -3.691406 C 9.40625 -2.632812 9.011719 -1.746094 8.347656 -1.03125 C 7.550781 -0.171875 6.472656 0.257812 5.121094 0.257812 C 3.953125 0.257812 2.972656 -0.09375 2.179688 -0.800781 C 1.136719 -1.734375 0.617188 -3.175781 0.617188 -5.125 C 0.617188 -6.609375 1.007812 -7.824219 1.789062 -8.769531 C 2.636719 -9.800781 3.808594 -10.316406 5.296875 -10.316406 Z M 5.296875 -10.316406 \"/>\n",
       "</symbol>\n",
       "<symbol overflow=\"visible\" id=\"glyph0-4\">\n",
       "<path style=\"stroke:none;\" d=\"M 4.921875 -1.164062 C 5.382812 -1.164062 5.761719 -1.210938 6.054688 -1.304688 C 6.585938 -1.484375 7.019531 -1.824219 7.355469 -2.332031 C 7.625 -2.738281 7.816406 -3.257812 7.9375 -3.890625 C 8.003906 -4.269531 8.039062 -4.617188 8.039062 -4.941406 C 8.039062 -6.1875 7.792969 -7.152344 7.296875 -7.839844 C 6.804688 -8.527344 6.007812 -8.875 4.90625 -8.875 L 2.496094 -8.875 L 2.496094 -1.164062 Z M 1.128906 -10.042969 L 5.195312 -10.042969 C 6.578125 -10.042969 7.648438 -9.550781 8.40625 -8.570312 C 9.085938 -7.6875 9.425781 -6.554688 9.425781 -5.175781 C 9.425781 -4.109375 9.226562 -3.144531 8.824219 -2.28125 C 8.117188 -0.761719 6.90625 0 5.179688 0 L 1.128906 0 Z M 1.128906 -10.042969 \"/>\n",
       "</symbol>\n",
       "<symbol overflow=\"visible\" id=\"glyph0-5\">\n",
       "<path style=\"stroke:none;\" d=\"M 1.195312 -10.042969 L 8.515625 -10.042969 L 8.515625 -8.8125 L 2.523438 -8.8125 L 2.523438 -5.761719 L 8.066406 -5.761719 L 8.066406 -4.601562 L 2.523438 -4.601562 L 2.523438 -1.195312 L 8.621094 -1.195312 L 8.621094 0 L 1.195312 0 Z M 1.195312 -10.042969 \"/>\n",
       "</symbol>\n",
       "<symbol overflow=\"visible\" id=\"glyph0-6\">\n",
       "<path style=\"stroke:none;\" d=\"M 1.195312 -10.042969 L 8.164062 -10.042969 L 8.164062 -8.8125 L 2.554688 -8.8125 L 2.554688 -5.761719 L 7.484375 -5.761719 L 7.484375 -4.566406 L 2.554688 -4.566406 L 2.554688 0 L 1.195312 0 Z M 1.195312 -10.042969 \"/>\n",
       "</symbol>\n",
       "<symbol overflow=\"visible\" id=\"glyph0-7\">\n",
       "<path style=\"stroke:none;\" d=\"M 5.40625 -10.300781 C 6.351562 -10.300781 7.167969 -10.121094 7.855469 -9.753906 C 8.851562 -9.230469 9.464844 -8.3125 9.6875 -7 L 8.339844 -7 C 8.175781 -7.734375 7.835938 -8.269531 7.320312 -8.601562 C 6.804688 -8.9375 6.15625 -9.105469 5.375 -9.105469 C 4.445312 -9.105469 3.660156 -8.757812 3.023438 -8.058594 C 2.390625 -7.363281 2.070312 -6.324219 2.070312 -4.941406 C 2.070312 -3.75 2.332031 -2.777344 2.859375 -2.027344 C 3.382812 -1.277344 4.234375 -0.902344 5.421875 -0.902344 C 6.328125 -0.902344 7.078125 -1.164062 7.671875 -1.691406 C 8.265625 -2.21875 8.570312 -3.070312 8.585938 -4.246094 L 5.441406 -4.246094 L 5.441406 -5.375 L 9.851562 -5.375 L 9.851562 0 L 8.976562 0 L 8.648438 -1.292969 C 8.1875 -0.785156 7.78125 -0.433594 7.421875 -0.238281 C 6.828125 0.0976562 6.066406 0.265625 5.148438 0.265625 C 3.957031 0.265625 2.933594 -0.117188 2.078125 -0.890625 C 1.144531 -1.855469 0.675781 -3.179688 0.675781 -4.867188 C 0.675781 -6.546875 1.132812 -7.886719 2.042969 -8.878906 C 2.910156 -9.828125 4.03125 -10.300781 5.40625 -10.300781 Z M 5.40625 -10.300781 \"/>\n",
       "</symbol>\n",
       "</g>\n",
       "</defs>\n",
       "<g id=\"surface2\">\n",
       "<rect x=\"0\" y=\"0\" width=\"200\" height=\"200\" style=\"fill:rgb(100%,100%,100%);fill-opacity:1;stroke:none;\"/>\n",
       "<path style=\"fill:none;stroke-width:1;stroke-linecap:butt;stroke-linejoin:miter;stroke:rgb(26.666667%,26.666667%,26.666667%);stroke-opacity:1;stroke-miterlimit:10;\" d=\"M 177.929688 159.5 L 130.160156 115.714844 \"/>\n",
       "<path style=\"fill:none;stroke-width:1;stroke-linecap:butt;stroke-linejoin:miter;stroke:rgb(26.666667%,26.666667%,26.666667%);stroke-opacity:1;stroke-miterlimit:10;\" d=\"M 177.929688 159.5 L 180 72.972656 \"/>\n",
       "<path style=\"fill:none;stroke-width:1;stroke-linecap:butt;stroke-linejoin:miter;stroke:rgb(26.666667%,26.666667%,26.666667%);stroke-opacity:1;stroke-miterlimit:10;\" d=\"M 130.160156 115.714844 L 180 72.972656 \"/>\n",
       "<path style=\"fill:none;stroke-width:1;stroke-linecap:butt;stroke-linejoin:miter;stroke:rgb(26.666667%,26.666667%,26.666667%);stroke-opacity:1;stroke-miterlimit:10;\" d=\"M 130.160156 115.714844 L 72.863281 105.640625 \"/>\n",
       "<path style=\"fill:none;stroke-width:1;stroke-linecap:butt;stroke-linejoin:miter;stroke:rgb(26.666667%,26.666667%,26.666667%);stroke-opacity:1;stroke-miterlimit:10;\" d=\"M 72.863281 105.640625 L 44.882812 20 \"/>\n",
       "<path style=\"fill:none;stroke-width:1;stroke-linecap:butt;stroke-linejoin:miter;stroke:rgb(26.666667%,26.666667%,26.666667%);stroke-opacity:1;stroke-miterlimit:10;\" d=\"M 72.863281 105.640625 L 35.496094 180 \"/>\n",
       "<path style=\"fill:none;stroke-width:1;stroke-linecap:butt;stroke-linejoin:miter;stroke:rgb(26.666667%,26.666667%,26.666667%);stroke-opacity:1;stroke-miterlimit:10;\" d=\"M 72.863281 105.640625 L 20 96.761719 \"/>\n",
       "<path style=\"fill:none;stroke-width:1;stroke-linecap:butt;stroke-linejoin:miter;stroke:rgb(26.666667%,26.666667%,26.666667%);stroke-opacity:1;stroke-miterlimit:10;\" d=\"M 44.882812 20 L 20 96.761719 \"/>\n",
       "<path style=\"fill:none;stroke-width:1;stroke-linecap:butt;stroke-linejoin:miter;stroke:rgb(26.666667%,26.666667%,26.666667%);stroke-opacity:1;stroke-miterlimit:10;\" d=\"M 35.496094 180 L 20 96.761719 \"/>\n",
       "<path style=\"fill-rule:nonzero;fill:rgb(100%,0%,0%);fill-opacity:1;stroke-width:1;stroke-linecap:butt;stroke-linejoin:miter;stroke:rgb(0%,0%,0%);stroke-opacity:1;stroke-miterlimit:10;\" d=\"M 187.929688 159.5 C 187.929688 165.023438 183.453125 169.5 177.929688 169.5 C 172.40625 169.5 167.929688 165.023438 167.929688 159.5 C 167.929688 153.976562 172.40625 149.5 177.929688 149.5 C 183.453125 149.5 187.929688 153.976562 187.929688 159.5 \"/>\n",
       "<path style=\"fill-rule:nonzero;fill:rgb(100%,0%,0%);fill-opacity:1;stroke-width:1;stroke-linecap:butt;stroke-linejoin:miter;stroke:rgb(0%,0%,0%);stroke-opacity:1;stroke-miterlimit:10;\" d=\"M 140.160156 115.714844 C 140.160156 121.234375 135.683594 125.714844 130.160156 125.714844 C 124.640625 125.714844 120.160156 121.234375 120.160156 115.714844 C 120.160156 110.191406 124.640625 105.714844 130.160156 105.714844 C 135.683594 105.714844 140.160156 110.191406 140.160156 115.714844 \"/>\n",
       "<path style=\"fill-rule:nonzero;fill:rgb(100%,0%,0%);fill-opacity:1;stroke-width:1;stroke-linecap:butt;stroke-linejoin:miter;stroke:rgb(0%,0%,0%);stroke-opacity:1;stroke-miterlimit:10;\" d=\"M 190 72.972656 C 190 78.496094 185.523438 82.972656 180 82.972656 C 174.476562 82.972656 170 78.496094 170 72.972656 C 170 67.453125 174.476562 62.972656 180 62.972656 C 185.523438 62.972656 190 67.453125 190 72.972656 \"/>\n",
       "<path style=\"fill-rule:nonzero;fill:rgb(100%,0%,0%);fill-opacity:1;stroke-width:1;stroke-linecap:butt;stroke-linejoin:miter;stroke:rgb(0%,0%,0%);stroke-opacity:1;stroke-miterlimit:10;\" d=\"M 82.863281 105.640625 C 82.863281 111.164062 78.386719 115.640625 72.863281 115.640625 C 67.339844 115.640625 62.863281 111.164062 62.863281 105.640625 C 62.863281 100.117188 67.339844 95.640625 72.863281 95.640625 C 78.386719 95.640625 82.863281 100.117188 82.863281 105.640625 \"/>\n",
       "<path style=\"fill-rule:nonzero;fill:rgb(100%,0%,0%);fill-opacity:1;stroke-width:1;stroke-linecap:butt;stroke-linejoin:miter;stroke:rgb(0%,0%,0%);stroke-opacity:1;stroke-miterlimit:10;\" d=\"M 54.882812 20 C 54.882812 25.523438 50.402344 30 44.882812 30 C 39.359375 30 34.882812 25.523438 34.882812 20 C 34.882812 14.476562 39.359375 10 44.882812 10 C 50.402344 10 54.882812 14.476562 54.882812 20 \"/>\n",
       "<path style=\"fill-rule:nonzero;fill:rgb(100%,0%,0%);fill-opacity:1;stroke-width:1;stroke-linecap:butt;stroke-linejoin:miter;stroke:rgb(0%,0%,0%);stroke-opacity:1;stroke-miterlimit:10;\" d=\"M 45.496094 180 C 45.496094 185.523438 41.019531 190 35.496094 190 C 29.972656 190 25.496094 185.523438 25.496094 180 C 25.496094 174.476562 29.972656 170 35.496094 170 C 41.019531 170 45.496094 174.476562 45.496094 180 \"/>\n",
       "<path style=\"fill-rule:nonzero;fill:rgb(100%,0%,0%);fill-opacity:1;stroke-width:1;stroke-linecap:butt;stroke-linejoin:miter;stroke:rgb(0%,0%,0%);stroke-opacity:1;stroke-miterlimit:10;\" d=\"M 30 96.761719 C 30 102.285156 25.523438 106.761719 20 106.761719 C 14.476562 106.761719 10 102.285156 10 96.761719 C 10 91.238281 14.476562 86.761719 20 86.761719 C 25.523438 86.761719 30 91.238281 30 96.761719 \"/>\n",
       "<g style=\"fill:rgb(0%,0%,0%);fill-opacity:1;\">\n",
       "  <use xlink:href=\"#glyph0-1\" x=\"173.246094\" y=\"166.132812\"/>\n",
       "</g>\n",
       "<g style=\"fill:rgb(0%,0%,0%);fill-opacity:1;\">\n",
       "  <use xlink:href=\"#glyph0-2\" x=\"125.257812\" y=\"122.34375\"/>\n",
       "</g>\n",
       "<g style=\"fill:rgb(0%,0%,0%);fill-opacity:1;\">\n",
       "  <use xlink:href=\"#glyph0-3\" x=\"174.929688\" y=\"79.742188\"/>\n",
       "</g>\n",
       "<g style=\"fill:rgb(0%,0%,0%);fill-opacity:1;\">\n",
       "  <use xlink:href=\"#glyph0-4\" x=\"67.585938\" y=\"112.269531\"/>\n",
       "</g>\n",
       "<g style=\"fill:rgb(0%,0%,0%);fill-opacity:1;\">\n",
       "  <use xlink:href=\"#glyph0-5\" x=\"39.972656\" y=\"26.632812\"/>\n",
       "</g>\n",
       "<g style=\"fill:rgb(0%,0%,0%);fill-opacity:1;\">\n",
       "  <use xlink:href=\"#glyph0-6\" x=\"30.816406\" y=\"186.632812\"/>\n",
       "</g>\n",
       "<g style=\"fill:rgb(0%,0%,0%);fill-opacity:1;\">\n",
       "  <use xlink:href=\"#glyph0-7\" x=\"14.734375\" y=\"103.53125\"/>\n",
       "</g>\n",
       "</g>\n",
       "</svg>\n"
      ],
      "text/plain": [
       "<igraph.drawing.Plot at 0x104f053d0>"
      ]
     },
     "execution_count": 2,
     "metadata": {},
     "output_type": "execute_result"
    }
   ],
   "source": [
    "import numpy as np\n",
    "import igraph\n",
    "\n",
    "from networks_lib.toygraph import *\n",
    "\n",
    "toy_mat = get_toy_mat()\n",
    "plot_toy()"
   ]
  },
  {
   "cell_type": "code",
   "execution_count": 3,
   "metadata": {},
   "outputs": [
    {
     "data": {
      "text/plain": [
       "array([[0, 1, 1, 0, 0, 0, 0],\n",
       "       [1, 0, 1, 1, 0, 0, 0],\n",
       "       [1, 1, 0, 0, 0, 0, 0],\n",
       "       [0, 1, 0, 0, 1, 1, 1],\n",
       "       [0, 0, 0, 1, 0, 0, 1],\n",
       "       [0, 0, 0, 1, 0, 0, 1],\n",
       "       [0, 0, 0, 1, 1, 1, 0]])"
      ]
     },
     "execution_count": 3,
     "metadata": {},
     "output_type": "execute_result"
    }
   ],
   "source": [
    "# This is the adjacency matrix for the graph\n",
    "# rows and columns are in alphabetical order A-G\n",
    "toy_mat"
   ]
  },
  {
   "cell_type": "markdown",
   "metadata": {},
   "source": [
    "### Part A: Warm-up \n",
    "\n",
    "**Problem 1** What is the degree of each node in the graph?\n",
    "\n",
    "**TODO**: Fill this in A: 2, B: 3, C: 2, D: 4, E: 2, F: 2, G: 3\n",
    "\n",
    "**Problem 2** Compute degrees from the adjacency matrix and compare to your answer"
   ]
  },
  {
   "cell_type": "code",
   "execution_count": 4,
   "metadata": {},
   "outputs": [],
   "source": [
    "## write out your answer to Problem 1\n",
    "toy_deg_answer = np.array([2, 3, 2, 4, 2, 2, 3])\n",
    "\n",
    "## compute the degrees from the adjacency matrix\n",
    "toy_deg = np.sum(toy_mat,axis=1)\n",
    "\n",
    "## check this assertion passes\n",
    "assert(np.all(toy_deg_answer == toy_deg))"
   ]
  },
  {
   "cell_type": "markdown",
   "metadata": {},
   "source": [
    "**Problem 3** Use the adjacency matrix to find the neighbors of node F"
   ]
  },
  {
   "cell_type": "code",
   "execution_count": 5,
   "metadata": {},
   "outputs": [],
   "source": [
    "## write out the neighbors of node F by hand (I gave you one of them)\n",
    "f_neighbors_answer = np.array([3, 6])\n",
    "\n",
    "## use the adjacency matrix to find the neighbors\n",
    "f_neighbors = np.where(toy_mat[5,:]>0)[0]\n",
    "\n",
    "## check this assertion passes\n",
    "assert(np.all(f_neighbors_answer == f_neighbors))"
   ]
  },
  {
   "cell_type": "markdown",
   "metadata": {},
   "source": [
    "### Part B: All pairwise-distances\n",
    "\n",
    "The distance between two nodes in the network is the length of the shortest path in the network. In this section we are going to use breadth-first-search to compute all pairwise distances.\n",
    "\n",
    "The algorithm will roughly work as follows:\n",
    "\n",
    "<pre>\n",
    "Input: Adjacency matrix of size n by n  \n",
    "Output: Distance matrix `dist` of size n by n  \n",
    "    - For each vertex `u` in the network  \n",
    "    - Create boolean array `visited` of length n   \n",
    "    - Initialize all vertices u as `visited[u]=False`  \n",
    "    - Push tuple `(u, 0)` to a (first-in-first-out) queue `Q`  \n",
    "    - While `Q` is not empty:  \n",
    "        - Pop tuple `(v,d)` from the top of `Q`  \n",
    "        - Set `visited[v]=True`  \n",
    "        - Set distance `dist[u,v]=d`  \n",
    "        - For each neighbor `w` of `v`  \n",
    "            - if `visited[w]=False`, push tuple `(w, d+1)` to `Q`  \n",
    "</pre>\n",
    "\n",
    "In python you can use the [collections.deque](https://docs.python.org/2/library/collections.html#collections.deque) module to implement the FIFO queue. You can `append` (to the right) to push, and `popleft` to pop (from the left)."
   ]
  },
  {
   "cell_type": "markdown",
   "metadata": {},
   "source": [
    "**Problem 1** Implement and test the algorithm for all pairwise distances."
   ]
  },
  {
   "cell_type": "code",
   "execution_count": 7,
   "metadata": {},
   "outputs": [],
   "source": [
    "from networks_lib.distance import bfs_distance\n",
    "\n",
    "## Write out by hand the distance matrix for our toy graph\n",
    "## expected_dist[0:1,0:1] is correct below, fill in the rest\n",
    "expected_dist = np.array([[0,1,1,2,3,3,3],\n",
    "                          [1,0,1,1,2,2,2],\n",
    "                          [1,1,0,2,3,3,3],\n",
    "                          [2,1,2,0,1,1,1],\n",
    "                          [3,2,3,1,0,2,1],\n",
    "                          [3,2,3,1,2,0,1],\n",
    "                          [3,2,3,1,1,1,0]])\n",
    "                         \n",
    "## Implement your BFS all pairwise distance algorithm\n",
    "## Do so in the `networks_lib.distance` module\n",
    "toy_dist = bfs_distance(toy_mat)\n",
    "\n",
    "## check this assertion is true\n",
    "assert(np.all(expected_dist == toy_dist))"
   ]
  },
  {
   "cell_type": "markdown",
   "metadata": {},
   "source": [
    "**Problem 2** Using distance to find graph components. Let's make a copy of the network adjacency matrix and remove edge `B-D`."
   ]
  },
  {
   "cell_type": "code",
   "execution_count": 8,
   "metadata": {},
   "outputs": [
    {
     "data": {
      "text/plain": [
       "array([[0, 1, 1, 0, 0, 0, 0],\n",
       "       [1, 0, 1, 0, 0, 0, 0],\n",
       "       [1, 1, 0, 0, 0, 0, 0],\n",
       "       [0, 0, 0, 0, 1, 1, 1],\n",
       "       [0, 0, 0, 1, 0, 0, 1],\n",
       "       [0, 0, 0, 1, 0, 0, 1],\n",
       "       [0, 0, 0, 1, 1, 1, 0]])"
      ]
     },
     "execution_count": 8,
     "metadata": {},
     "output_type": "execute_result"
    }
   ],
   "source": [
    "toy_copy = toy_mat.copy()\n",
    "toy_copy[1,3] = 0\n",
    "toy_copy[3,1] = 0\n",
    "toy_copy"
   ]
  },
  {
   "cell_type": "markdown",
   "metadata": {},
   "source": [
    "The resulting network has two components (A,B,C) and (D,E,F,G). We can use a distance matrix to identify those components since any pair of nodes `u` and `v` for which `d(u,v)< np.inf` \n",
    "are reachable (means there is a path between `u` and `v`).\n",
    "\n",
    "The procedure will roughly be:\n",
    "\n",
    "<pre>\n",
    "- mark all vertices are `unused`\n",
    "- while any nodes are `unused`:\n",
    "  - choose any unused node `u`\n",
    "  - return `u` and all vertices `v` with `d(u,v) < np.inf` as a component and mark as used.\n",
    "</pre>"
   ]
  },
  {
   "cell_type": "code",
   "execution_count": 13,
   "metadata": {},
   "outputs": [
    {
     "name": "stdout",
     "output_type": "stream",
     "text": [
      "[array([0, 1, 2]), array([3, 4, 5, 6])]\n"
     ]
    }
   ],
   "source": [
    "from networks_lib.distance import get_components\n",
    "\n",
    "## these are the expected components for the new graph\n",
    "expected_components = [np.array([0,1,2]), np.array([3,4,5,6])]\n",
    "print(expected_components)\n",
    "\n",
    "## implement the component finding function based on your distance matrix\n",
    "components = get_components(toy_copy)\n",
    "#components = [np.zeros(3), np.zeros(4)]\n",
    "\n",
    "## make this assertion pass\n",
    "assert(all([np.all(x == y) for (x,y) in zip(expected_components,components)]))\n"
   ]
  },
  {
   "cell_type": "markdown",
   "metadata": {},
   "source": [
    "### Part C: Edge Betweeness\n",
    "\n",
    "In this section you will implement the edge betweenness algorithm described in book and lecture notes as part of the Girvan-Newman algorithm. \n",
    "\n",
    "**Problem 1** Implement the breadth-first algorithm to compute the number of shortest paths starting from a specific vertex going through each edge in the graph."
   ]
  },
  {
   "cell_type": "code",
   "execution_count": 26,
   "metadata": {},
   "outputs": [
    {
     "name": "stderr",
     "output_type": "stream",
     "text": [
      "/Users/thomas/opt/anaconda3/lib/python3.7/site-packages/ipykernel_launcher.py:19: DeprecationWarning: elementwise comparison failed; this will raise an error in the future.\n"
     ]
    },
    {
     "ename": "AssertionError",
     "evalue": "",
     "output_type": "error",
     "traceback": [
      "\u001b[0;31m---------------------------------------------------------------------------\u001b[0m",
      "\u001b[0;31mAssertionError\u001b[0m                            Traceback (most recent call last)",
      "\u001b[0;32m<ipython-input-26-13f961f93326>\u001b[0m in \u001b[0;36m<module>\u001b[0;34m\u001b[0m\n\u001b[1;32m     17\u001b[0m \u001b[0;34m\u001b[0m\u001b[0m\n\u001b[1;32m     18\u001b[0m \u001b[0;31m## make sure this assertion passes\u001b[0m\u001b[0;34m\u001b[0m\u001b[0;34m\u001b[0m\u001b[0;34m\u001b[0m\u001b[0m\n\u001b[0;32m---> 19\u001b[0;31m \u001b[0;32massert\u001b[0m\u001b[0;34m(\u001b[0m\u001b[0mnp\u001b[0m\u001b[0;34m.\u001b[0m\u001b[0mall\u001b[0m\u001b[0;34m(\u001b[0m\u001b[0mcounts\u001b[0m \u001b[0;34m==\u001b[0m \u001b[0mexpected_counts\u001b[0m\u001b[0;34m)\u001b[0m\u001b[0;34m)\u001b[0m\u001b[0;34m\u001b[0m\u001b[0;34m\u001b[0m\u001b[0m\n\u001b[0m",
      "\u001b[0;31mAssertionError\u001b[0m: "
     ]
    }
   ],
   "source": [
    "from networks_lib.betweenness import edge_counts\n",
    "\n",
    "## Write out by hand a matrix containing the shortest path count starting from vertex E.\n",
    "## In the result matrix entry i,j has the count for the edge i-j in the graph.\n",
    "## This was shown as an example in lecture notes.\n",
    "##\n",
    "## expected_dist[0:1,0:1] is correct below, fill in the rest\n",
    "expected_counts = np.array([[0,1,2,3,4,5,6],\n",
    "                            [1,0,1,2,3,4,5],\n",
    "                            [2,1,0,1,2,3,4],\n",
    "                            [3,2,1,0,1,2,3],\n",
    "                            [4,3,2,1,0,1,2],\n",
    "                            [5,4,3,2,1,0,1]])\n",
    "\n",
    "## implement the function edge_count \n",
    "counts = edge_counts(4, toy_mat)\n",
    "\n",
    "## make sure this assertion passes\n",
    "assert(np.all(counts == expected_counts))"
   ]
  },
  {
   "cell_type": "markdown",
   "metadata": {},
   "source": [
    "**Problem 2**: Confirm the edge betweenness function works properly by comparing result to\n",
    "igraph's computation"
   ]
  },
  {
   "cell_type": "code",
   "execution_count": 9,
   "metadata": {},
   "outputs": [
    {
     "ename": "NameError",
     "evalue": "name 'toy_betweeness' is not defined",
     "output_type": "error",
     "traceback": [
      "\u001b[0;31m---------------------------------------------------------------------------\u001b[0m",
      "\u001b[0;31mNameError\u001b[0m                                 Traceback (most recent call last)",
      "\u001b[0;32m<ipython-input-9-dcdf83a3f6ea>\u001b[0m in \u001b[0;36m<module>\u001b[0;34m\u001b[0m\n\u001b[1;32m      8\u001b[0m \u001b[0;31m## after implementing the `edge_counts` function above\u001b[0m\u001b[0;34m\u001b[0m\u001b[0;34m\u001b[0m\u001b[0;34m\u001b[0m\u001b[0m\n\u001b[1;32m      9\u001b[0m \u001b[0mtoy_betweenness\u001b[0m \u001b[0;34m=\u001b[0m \u001b[0medge_betweenness\u001b[0m\u001b[0;34m(\u001b[0m\u001b[0mtoy_mat\u001b[0m\u001b[0;34m)\u001b[0m\u001b[0;34m\u001b[0m\u001b[0;34m\u001b[0m\u001b[0m\n\u001b[0;32m---> 10\u001b[0;31m \u001b[0mtoy_betweeness\u001b[0m\u001b[0;34m\u001b[0m\u001b[0;34m\u001b[0m\u001b[0m\n\u001b[0m\u001b[1;32m     11\u001b[0m \u001b[0;32massert\u001b[0m\u001b[0;34m(\u001b[0m\u001b[0mnp\u001b[0m\u001b[0;34m.\u001b[0m\u001b[0mall\u001b[0m\u001b[0;34m(\u001b[0m\u001b[0mexpected_betweenness\u001b[0m \u001b[0;34m==\u001b[0m \u001b[0mnp\u001b[0m\u001b[0;34m.\u001b[0m\u001b[0mtriu\u001b[0m\u001b[0;34m(\u001b[0m\u001b[0mtoy_betweenness\u001b[0m\u001b[0;34m)\u001b[0m\u001b[0;34m[\u001b[0m\u001b[0mnp\u001b[0m\u001b[0;34m.\u001b[0m\u001b[0mwhere\u001b[0m\u001b[0;34m(\u001b[0m\u001b[0mnp\u001b[0m\u001b[0;34m.\u001b[0m\u001b[0mtriu\u001b[0m\u001b[0;34m(\u001b[0m\u001b[0mtoy_mat\u001b[0m\u001b[0;34m)\u001b[0m\u001b[0;34m>\u001b[0m\u001b[0;36m0\u001b[0m\u001b[0;34m)\u001b[0m\u001b[0;34m]\u001b[0m\u001b[0;34m)\u001b[0m\u001b[0;34m)\u001b[0m\u001b[0;34m\u001b[0m\u001b[0;34m\u001b[0m\u001b[0m\n",
      "\u001b[0;31mNameError\u001b[0m: name 'toy_betweeness' is not defined"
     ]
    }
   ],
   "source": [
    "from networks_lib.betweenness import edge_betweenness\n",
    "from networks_lib.toygraph import get_toy_graph\n",
    "\n",
    "## compute edge betweenness using igraph\n",
    "g = get_toy_graph()\n",
    "expected_betweenness = g.edge_betweenness()\n",
    "\n",
    "## after implementing the `edge_counts` function above\n",
    "toy_betweenness = edge_betweenness(toy_mat)\n",
    "toy_betweeness\n",
    "assert(np.all(expected_betweenness == np.triu(toy_betweenness)[np.where(np.triu(toy_mat)>0)]))"
   ]
  },
  {
   "cell_type": "markdown",
   "metadata": {},
   "source": [
    "### Part D: Girvan-Newman community finding\n",
    "\n",
    "Now we use all of the above to do community analysis on the graph.\n",
    "\n",
    "The procedure should be as follows\n",
    "\n",
    "<pre>\n",
    "Input: adjacency matrix, and number of communities K\n",
    "Output: array of community assignments\n",
    "\n",
    "set components = [ [all vertices] ]\n",
    "while number of components < K:\n",
    "    - compute edge betweenness (edge_betweenness)\n",
    "    - remove edge with highest edge betweenness\n",
    "    - find components in the graph (get_components)\n",
    "return an array with community assignments \n",
    "</pre>"
   ]
  },
  {
   "cell_type": "code",
   "execution_count": 10,
   "metadata": {},
   "outputs": [
    {
     "ename": "AssertionError",
     "evalue": "",
     "output_type": "error",
     "traceback": [
      "\u001b[0;31m---------------------------------------------------------------------------\u001b[0m",
      "\u001b[0;31mAssertionError\u001b[0m                            Traceback (most recent call last)",
      "\u001b[0;32m<ipython-input-10-e9a52abe707a>\u001b[0m in \u001b[0;36m<module>\u001b[0;34m\u001b[0m\n\u001b[1;32m     12\u001b[0m \u001b[0;34m\u001b[0m\u001b[0m\n\u001b[1;32m     13\u001b[0m \u001b[0;31m## make this assertion pass\u001b[0m\u001b[0;34m\u001b[0m\u001b[0;34m\u001b[0m\u001b[0;34m\u001b[0m\u001b[0m\n\u001b[0;32m---> 14\u001b[0;31m \u001b[0;32massert\u001b[0m\u001b[0;34m(\u001b[0m\u001b[0mnp\u001b[0m\u001b[0;34m.\u001b[0m\u001b[0mall\u001b[0m\u001b[0;34m(\u001b[0m\u001b[0massignment\u001b[0m \u001b[0;34m==\u001b[0m \u001b[0mnp\u001b[0m\u001b[0;34m.\u001b[0m\u001b[0marray\u001b[0m\u001b[0;34m(\u001b[0m\u001b[0massignment\u001b[0m\u001b[0;34m)\u001b[0m\u001b[0;34m)\u001b[0m\u001b[0;34m)\u001b[0m\u001b[0;34m\u001b[0m\u001b[0;34m\u001b[0m\u001b[0m\n\u001b[0m",
      "\u001b[0;31mAssertionError\u001b[0m: "
     ]
    }
   ],
   "source": [
    "import igraph\n",
    "from networks_lib.toygraph import get_toy_graph\n",
    "from networks_lib.communities import girvan_newman\n",
    "\n",
    "## Let's use igraph to find 2 communities in the toy example\n",
    "g = get_toy_graph()\n",
    "expected_assignment = g.community_edge_betweenness(clusters=2).as_clustering().membership\n",
    "expected_assignment\n",
    "\n",
    "## Implement the girvan-newman algorithm\n",
    "assignment = girvan_newman(toy_mat, 2)\n",
    "\n",
    "## make this assertion pass\n",
    "assert(np.all(assignment == np.array(assignment)))"
   ]
  },
  {
   "cell_type": "markdown",
   "metadata": {},
   "source": [
    "### Part E: K-mediods clustering\n",
    "\n",
    "Now we use K-mediods clustering on the graph distance matrix. We will build the algorithm in steps.\n",
    "\n",
    "**Problem 1**: Implement random initialization "
   ]
  },
  {
   "cell_type": "code",
   "execution_count": 11,
   "metadata": {},
   "outputs": [
    {
     "ename": "AssertionError",
     "evalue": "",
     "output_type": "error",
     "traceback": [
      "\u001b[0;31m---------------------------------------------------------------------------\u001b[0m",
      "\u001b[0;31mAssertionError\u001b[0m                            Traceback (most recent call last)",
      "\u001b[0;32m<ipython-input-11-d766118c9889>\u001b[0m in \u001b[0;36m<module>\u001b[0;34m\u001b[0m\n\u001b[1;32m      5\u001b[0m \u001b[0mmedioids\u001b[0m \u001b[0;34m=\u001b[0m \u001b[0mrandom_init\u001b[0m\u001b[0;34m(\u001b[0m\u001b[0mtoy_dist\u001b[0m\u001b[0;34m,\u001b[0m \u001b[0;36m2\u001b[0m\u001b[0;34m)\u001b[0m\u001b[0;34m\u001b[0m\u001b[0;34m\u001b[0m\u001b[0m\n\u001b[1;32m      6\u001b[0m \u001b[0;34m\u001b[0m\u001b[0m\n\u001b[0;32m----> 7\u001b[0;31m \u001b[0;32massert\u001b[0m\u001b[0;34m(\u001b[0m\u001b[0mlen\u001b[0m\u001b[0;34m(\u001b[0m\u001b[0mmedioids\u001b[0m\u001b[0;34m)\u001b[0m \u001b[0;34m==\u001b[0m \u001b[0;36m2\u001b[0m\u001b[0;34m)\u001b[0m\u001b[0;34m\u001b[0m\u001b[0;34m\u001b[0m\u001b[0m\n\u001b[0m",
      "\u001b[0;31mAssertionError\u001b[0m: "
     ]
    }
   ],
   "source": [
    "from networks_lib.kmedioids import random_init\n",
    "from networks_lib.distance import bfs_distance\n",
    "\n",
    "toy_dist = bfs_distance(toy_mat)\n",
    "medioids = random_init(toy_dist, 2)\n",
    "\n",
    "assert(len(medioids) == 2)"
   ]
  },
  {
   "cell_type": "markdown",
   "metadata": {},
   "source": [
    "**Problem 2**: Now let's implement the assignment function, given medioids, assign each vertex\n",
    "to the nearest medioid"
   ]
  },
  {
   "cell_type": "code",
   "execution_count": 12,
   "metadata": {},
   "outputs": [
    {
     "name": "stderr",
     "output_type": "stream",
     "text": [
      "<ipython-input-12-23a003861e57>:12: DeprecationWarning: elementwise comparison failed; this will raise an error in the future.\n",
      "  assert(np.all(expected_assignment == assignment))\n"
     ]
    },
    {
     "ename": "AssertionError",
     "evalue": "",
     "output_type": "error",
     "traceback": [
      "\u001b[0;31m---------------------------------------------------------------------------\u001b[0m",
      "\u001b[0;31mAssertionError\u001b[0m                            Traceback (most recent call last)",
      "\u001b[0;32m<ipython-input-12-23a003861e57>\u001b[0m in \u001b[0;36m<module>\u001b[0;34m\u001b[0m\n\u001b[1;32m     10\u001b[0m \u001b[0massignment\u001b[0m \u001b[0;34m=\u001b[0m \u001b[0massign\u001b[0m\u001b[0;34m(\u001b[0m\u001b[0mtoy_dist\u001b[0m\u001b[0;34m,\u001b[0m \u001b[0mmedioids\u001b[0m\u001b[0;34m)\u001b[0m\u001b[0;34m\u001b[0m\u001b[0;34m\u001b[0m\u001b[0m\n\u001b[1;32m     11\u001b[0m \u001b[0;34m\u001b[0m\u001b[0m\n\u001b[0;32m---> 12\u001b[0;31m \u001b[0;32massert\u001b[0m\u001b[0;34m(\u001b[0m\u001b[0mnp\u001b[0m\u001b[0;34m.\u001b[0m\u001b[0mall\u001b[0m\u001b[0;34m(\u001b[0m\u001b[0mexpected_assignment\u001b[0m \u001b[0;34m==\u001b[0m \u001b[0massignment\u001b[0m\u001b[0;34m)\u001b[0m\u001b[0;34m)\u001b[0m\u001b[0;34m\u001b[0m\u001b[0;34m\u001b[0m\u001b[0m\n\u001b[0m",
      "\u001b[0;31mAssertionError\u001b[0m: "
     ]
    }
   ],
   "source": [
    "from networks_lib.kmedioids import assign\n",
    "\n",
    "# suppose vertices 'B' and 'E' are chosen\n",
    "mediods = np.array([1, 4])\n",
    "\n",
    "# correct this assignment\n",
    "expected_assignment = np.array([0, 1, 1, 1, 1, 1, 1, 1])\n",
    "\n",
    "# compute assignment\n",
    "assignment = assign(toy_dist, medioids)\n",
    "\n",
    "assert(np.all(expected_assignment == assignment))"
   ]
  },
  {
   "cell_type": "markdown",
   "metadata": {},
   "source": [
    "**Problem 3**: Now implement a function to determine medioids given an assignment"
   ]
  },
  {
   "cell_type": "code",
   "execution_count": 13,
   "metadata": {},
   "outputs": [
    {
     "ename": "AssertionError",
     "evalue": "",
     "output_type": "error",
     "traceback": [
      "\u001b[0;31m---------------------------------------------------------------------------\u001b[0m",
      "\u001b[0;31mAssertionError\u001b[0m                            Traceback (most recent call last)",
      "\u001b[0;32m<ipython-input-13-fbb555605232>\u001b[0m in \u001b[0;36m<module>\u001b[0;34m\u001b[0m\n\u001b[1;32m     11\u001b[0m \u001b[0;34m\u001b[0m\u001b[0m\n\u001b[1;32m     12\u001b[0m \u001b[0;31m# make this assertion work\u001b[0m\u001b[0;34m\u001b[0m\u001b[0;34m\u001b[0m\u001b[0;34m\u001b[0m\u001b[0m\n\u001b[0;32m---> 13\u001b[0;31m \u001b[0;32massert\u001b[0m\u001b[0;34m(\u001b[0m\u001b[0mnp\u001b[0m\u001b[0;34m.\u001b[0m\u001b[0mall\u001b[0m\u001b[0;34m(\u001b[0m\u001b[0mexpected_medioids\u001b[0m \u001b[0;34m==\u001b[0m \u001b[0mmedioids\u001b[0m\u001b[0;34m)\u001b[0m\u001b[0;34m)\u001b[0m\u001b[0;34m\u001b[0m\u001b[0;34m\u001b[0m\u001b[0m\n\u001b[0m",
      "\u001b[0;31mAssertionError\u001b[0m: "
     ]
    }
   ],
   "source": [
    "from networks_lib.kmedioids import get_medioids\n",
    "\n",
    "# In this case all but 'A' are assigned to one cluster\n",
    "assignment = np.array([0, 1, 1, 1, 1, 1, 1])\n",
    "\n",
    "# what would the medioids be in that case?\n",
    "expected_medioids = np.array([0, 1])\n",
    "\n",
    "# implement the get_medioids function\n",
    "medioids = get_medioids(toy_dist, assignment, 2)\n",
    "\n",
    "# make this assertion work\n",
    "assert(np.all(expected_medioids == medioids))"
   ]
  },
  {
   "cell_type": "markdown",
   "metadata": {},
   "source": [
    "**Problem 4**: Finish implementing k-medioids"
   ]
  },
  {
   "cell_type": "code",
   "execution_count": 14,
   "metadata": {},
   "outputs": [
    {
     "ename": "AssertionError",
     "evalue": "",
     "output_type": "error",
     "traceback": [
      "\u001b[0;31m---------------------------------------------------------------------------\u001b[0m",
      "\u001b[0;31mAssertionError\u001b[0m                            Traceback (most recent call last)",
      "\u001b[0;32m<ipython-input-14-4ab9a8047ec3>\u001b[0m in \u001b[0;36m<module>\u001b[0;34m\u001b[0m\n\u001b[1;32m      5\u001b[0m \u001b[0;34m\u001b[0m\u001b[0m\n\u001b[1;32m      6\u001b[0m \u001b[0;31m## make this assertion pass\u001b[0m\u001b[0;34m\u001b[0m\u001b[0;34m\u001b[0m\u001b[0;34m\u001b[0m\u001b[0m\n\u001b[0;32m----> 7\u001b[0;31m \u001b[0;32massert\u001b[0m\u001b[0;34m(\u001b[0m\u001b[0mnp\u001b[0m\u001b[0;34m.\u001b[0m\u001b[0mall\u001b[0m\u001b[0;34m(\u001b[0m\u001b[0mkmeds_assign\u001b[0m \u001b[0;34m<\u001b[0m \u001b[0;36m2\u001b[0m\u001b[0;34m)\u001b[0m\u001b[0;34m)\u001b[0m\u001b[0;34m\u001b[0m\u001b[0;34m\u001b[0m\u001b[0m\n\u001b[0m",
      "\u001b[0;31mAssertionError\u001b[0m: "
     ]
    }
   ],
   "source": [
    "from networks_lib.kmedioids import kmedioids\n",
    "\n",
    "kmeds_assign = kmedioids(toy_dist, 2)\n",
    "kmeds_assign\n",
    "\n",
    "## make this assertion pass\n",
    "assert(np.all(kmeds_assign < 2))"
   ]
  },
  {
   "cell_type": "code",
   "execution_count": null,
   "metadata": {},
   "outputs": [],
   "source": []
  },
  {
   "cell_type": "code",
   "execution_count": null,
   "metadata": {},
   "outputs": [],
   "source": []
  }
 ],
 "metadata": {
  "kernelspec": {
   "display_name": "Python 3",
   "language": "python",
   "name": "python3"
  },
  "language_info": {
   "codemirror_mode": {
    "name": "ipython",
    "version": 3
   },
   "file_extension": ".py",
   "mimetype": "text/x-python",
   "name": "python",
   "nbconvert_exporter": "python",
   "pygments_lexer": "ipython3",
   "version": "3.7.7"
  }
 },
 "nbformat": 4,
 "nbformat_minor": 4
}
